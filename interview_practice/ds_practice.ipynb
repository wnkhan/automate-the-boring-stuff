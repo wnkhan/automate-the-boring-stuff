{
 "cells": [
  {
   "cell_type": "markdown",
   "metadata": {},
   "source": [
    "### Dequeue Example"
   ]
  },
  {
   "cell_type": "code",
   "execution_count": null,
   "metadata": {},
   "outputs": [],
   "source": [
    "from collections import deque\n",
    "\n",
    "name1 = 'william'\n",
    "name2 = 'amanda'\n",
    "\n",
    "name1_stack = deque(name1)\n",
    "name2_stack = deque(name2)\n",
    "\n",
    "if (max := len(name1_stack)) < len(name2_stack):\n",
    "    max = len(name2_stack)\n",
    "\n",
    "\n",
    "interleaved = deque()\n",
    "for index in range(max):\n",
    "    if len(name1_stack) != 0:\n",
    "        interleaved.append(name1_stack.popleft())\n",
    "    if len(name2_stack) != 0:\n",
    "        interleaved.append(name2_stack.popleft())\n",
    "\n",
    "interleaved"
   ]
  },
  {
   "cell_type": "code",
   "execution_count": null,
   "metadata": {},
   "outputs": [],
   "source": [
    "list1 = [1,2,4,7]\n",
    "list2 = [3,5,7,8] \n",
    "\n",
    "spliced = []\n",
    "for _ in range(len(list1) + len(list2)):\n",
    "    while list1 and list2:\n",
    "        if (list1_num := list1.pop()) > (list2_num := list2.pop()):\n",
    "            spliced.append(list1_num) \n",
    "            list2.append(list2_num)\n",
    "        else:\n",
    "            spliced.append(list2_num) \n",
    "            list1.append(list1_num)\n",
    "\n",
    "    while list1:\n",
    "        spliced.append(list1.pop())\n",
    "\n",
    "    while list2:\n",
    "        spliced.append(list2.pop())\n",
    "\n",
    "reversed = []\n",
    "while spliced:\n",
    "    reversed.append(spliced.pop())\n",
    "reversed"
   ]
  },
  {
   "cell_type": "markdown",
   "metadata": {},
   "source": [
    "### Combined Dicts"
   ]
  },
  {
   "cell_type": "code",
   "execution_count": 33,
   "metadata": {},
   "outputs": [
    {
     "data": {
      "text/plain": [
       "{'red': 7, 'blue': 1, 'white': 4, 'green': 7}"
      ]
     },
     "execution_count": 33,
     "metadata": {},
     "output_type": "execute_result"
    }
   ],
   "source": [
    "dict1 = {\"red\": 5, \"blue\": 1, \"white\": 4}\n",
    "dict2 = {\"green\": 7, \"red\": 2}\n",
    "\n",
    "def combine_dicts(dict1: dict, dict2: dict) -> dict:\n",
    "    dict1_keys = set(dict1.keys())\n",
    "    dict2_keys = set(dict2.keys())\n",
    "\n",
    "    common_keys = dict1_keys.intersection(dict2_keys)\n",
    "\n",
    "    combined_dict = dict(dict1)\n",
    "    combined_dict.update(dict2)\n",
    "\n",
    "    for key in common_keys:\n",
    "        combined_dict.update({key: dict1.get(key)+dict2.get(key)})\n",
    "\n",
    "    return combined_dict\n",
    "\n",
    "combine_dicts(dict1,dict2)\n"
   ]
  }
 ],
 "metadata": {
  "kernelspec": {
   "display_name": "venv",
   "language": "python",
   "name": "python3"
  },
  "language_info": {
   "name": "python",
   "version": "3.12.7"
  }
 },
 "nbformat": 4,
 "nbformat_minor": 2
}
