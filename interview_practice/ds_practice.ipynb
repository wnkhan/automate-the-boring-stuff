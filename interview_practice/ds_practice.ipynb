{
 "cells": [
  {
   "cell_type": "markdown",
   "metadata": {},
   "source": [
    "### Dequeue Example"
   ]
  },
  {
   "cell_type": "code",
   "execution_count": 2,
   "metadata": {},
   "outputs": [
    {
     "data": {
      "text/plain": [
       "deque(['w', 'a', 'i', 'm', 'l', 'a', 'l', 'n', 'i', 'd', 'a', 'a', 'm'])"
      ]
     },
     "execution_count": 2,
     "metadata": {},
     "output_type": "execute_result"
    }
   ],
   "source": [
    "from collections import deque\n",
    "\n",
    "name1 = 'william'\n",
    "name2 = 'amanda'\n",
    "\n",
    "name1_stack = deque(name1)\n",
    "name2_stack = deque(name2)\n",
    "\n",
    "if (max := len(name1_stack)) < len(name2_stack):\n",
    "    max = len(name2_stack)\n",
    "\n",
    "\n",
    "interleaved = deque()\n",
    "for index in range(max):\n",
    "    if len(name1_stack) != 0:\n",
    "        interleaved.append(name1_stack.popleft())\n",
    "    if len(name2_stack) != 0:\n",
    "        interleaved.append(name2_stack.popleft())\n",
    "\n",
    "interleaved"
   ]
  },
  {
   "cell_type": "code",
   "execution_count": 3,
   "metadata": {},
   "outputs": [
    {
     "data": {
      "text/plain": [
       "[1, 2, 3, 4, 5, 7, 7, 8]"
      ]
     },
     "execution_count": 3,
     "metadata": {},
     "output_type": "execute_result"
    }
   ],
   "source": [
    "list1 = [1,2,4,7]\n",
    "list2 = [3,5,7,8] \n",
    "\n",
    "spliced = []\n",
    "for _ in range(len(list1) + len(list2)):\n",
    "    while list1 and list2:\n",
    "        if (list1_num := list1.pop()) > (list2_num := list2.pop()):\n",
    "            spliced.append(list1_num) \n",
    "            list2.append(list2_num)\n",
    "        else:\n",
    "            spliced.append(list2_num) \n",
    "            list1.append(list1_num)\n",
    "\n",
    "    while list1:\n",
    "        spliced.append(list1.pop())\n",
    "\n",
    "    while list2:\n",
    "        spliced.append(list2.pop())\n",
    "\n",
    "reversed = []\n",
    "while spliced:\n",
    "    reversed.append(spliced.pop())\n",
    "reversed"
   ]
  },
  {
   "cell_type": "markdown",
   "metadata": {},
   "source": [
    "### Combined Dicts"
   ]
  },
  {
   "cell_type": "code",
   "execution_count": 4,
   "metadata": {},
   "outputs": [
    {
     "data": {
      "text/plain": [
       "{'red': 7, 'blue': 1, 'white': 4, 'green': 7}"
      ]
     },
     "execution_count": 4,
     "metadata": {},
     "output_type": "execute_result"
    }
   ],
   "source": [
    "dict1 = {\"red\": 5, \"blue\": 1, \"white\": 4}\n",
    "dict2 = {\"green\": 7, \"red\": 2}\n",
    "\n",
    "def combine_dicts(dict1: dict, dict2: dict) -> dict:\n",
    "    dict1_keys = set(dict1.keys())\n",
    "    dict2_keys = set(dict2.keys())\n",
    "\n",
    "    common_keys = dict1_keys.intersection(dict2_keys)\n",
    "\n",
    "    combined_dict = dict(dict1)\n",
    "    combined_dict.update(dict2)\n",
    "\n",
    "    for key in common_keys:\n",
    "        combined_dict.update({key: dict1.get(key)+dict2.get(key)})\n",
    "\n",
    "    return combined_dict\n",
    "\n",
    "combine_dicts(dict1,dict2)\n"
   ]
  },
  {
   "cell_type": "markdown",
   "metadata": {},
   "source": [
    "## Palindrone"
   ]
  },
  {
   "cell_type": "code",
   "execution_count": 5,
   "metadata": {},
   "outputs": [
    {
     "data": {
      "text/plain": [
       "(True, False)"
      ]
     },
     "execution_count": 5,
     "metadata": {},
     "output_type": "execute_result"
    }
   ],
   "source": [
    "def is_palindrome(string: str) -> bool:\n",
    "    return string.lower() == string.lower()[::-1]\n",
    "\n",
    "is_palindrome('racecar'), is_palindrome('hello')"
   ]
  },
  {
   "cell_type": "markdown",
   "metadata": {},
   "source": [
    "## Convert Roman Numeral to Integer"
   ]
  },
  {
   "cell_type": "code",
   "execution_count": 6,
   "metadata": {},
   "outputs": [
    {
     "data": {
      "text/plain": [
       "(429, 11)"
      ]
     },
     "execution_count": 6,
     "metadata": {},
     "output_type": "execute_result"
    }
   ],
   "source": [
    "# ie. VII -> 7, IV -> 4, IX -> 9, XL -> 40, CDXXIX -> 429, CD -> 400, CM -> 900\n",
    "\n",
    "def roman_numeral_to_int(roman: str) -> int:\n",
    "    roman_numerals = {\n",
    "        'I': 1,\n",
    "        'V': 5,\n",
    "        'X': 10,\n",
    "        'L': 50,\n",
    "        'C': 100,\n",
    "        'D': 500,\n",
    "        'M': 1000\n",
    "    }\n",
    "\n",
    "    value = 0\n",
    "    for index, numeral in enumerate(roman):\n",
    "        if index < len(roman) - 1 and roman_numerals[numeral] < roman_numerals[roman[index+1]]:\n",
    "            value -= roman_numerals[numeral]\n",
    "        else:\n",
    "            value += roman_numerals[numeral]\n",
    "\n",
    "    return value\n",
    "roman_numeral_to_int('CDXXIX'), roman_numeral_to_int('XI')"
   ]
  },
  {
   "cell_type": "markdown",
   "metadata": {},
   "source": [
    "## Function Argument Exploration"
   ]
  },
  {
   "cell_type": "code",
   "execution_count": 7,
   "metadata": {},
   "outputs": [
    {
     "name": "stdout",
     "output_type": "stream",
     "text": [
      "<class 'tuple'>\n"
     ]
    },
    {
     "data": {
      "text/plain": [
       "6"
      ]
     },
     "execution_count": 7,
     "metadata": {},
     "output_type": "execute_result"
    }
   ],
   "source": [
    "def apply_math_op(*numbers, math_op = '+'):\n",
    "    print(type(numbers))\n",
    "    result = 0 if math_op == '+' or math_op == '-' else 1\n",
    "    for number in numbers:\n",
    "        match math_op:\n",
    "            case '+': \n",
    "                result += number\n",
    "            case '*':\n",
    "                result *= number\n",
    "    return result\n",
    "\n",
    "        \n",
    "\n",
    "\n",
    "apply_math_op(1,2,3,**{'math_op':'*'})"
   ]
  },
  {
   "cell_type": "markdown",
   "metadata": {},
   "source": [
    "## Decorator Practice"
   ]
  },
  {
   "cell_type": "code",
   "execution_count": 8,
   "metadata": {},
   "outputs": [
    {
     "name": "stdout",
     "output_type": "stream",
     "text": [
      "Before greeting call\n",
      "Hello william james smith\n",
      "After greeting call\n"
     ]
    }
   ],
   "source": [
    "def decorated(func):\n",
    "    def wrapper(*args, **kwargs):\n",
    "        print(f'Before {func.__name__} call')\n",
    "        result = func(*args, **kwargs)\n",
    "        print(f'After {func.__name__} call')\n",
    "        return result\n",
    "    return wrapper\n",
    "\n",
    "def greeting(**names) -> str:\n",
    "    print(f\"Hello {' '.join([names['first'], names['middle'], names['last']])}\")\n",
    "\n",
    "greeting = decorated(greeting)\n",
    "\n",
    "greeting(**{'first':'william', 'middle':'james', 'last':'smith'})"
   ]
  },
  {
   "cell_type": "markdown",
   "metadata": {},
   "source": [
    "## Data Classes"
   ]
  },
  {
   "cell_type": "code",
   "execution_count": 9,
   "metadata": {},
   "outputs": [
    {
     "data": {
      "text/plain": [
       "'william'"
      ]
     },
     "execution_count": 9,
     "metadata": {},
     "output_type": "execute_result"
    }
   ],
   "source": [
    "# First namedtuple\n",
    "from collections import namedtuple\n",
    "\n",
    "Person = namedtuple('Person', 'first middle last')\n",
    "william = Person('william', 'nehal', 'khan')\n",
    "william.first"
   ]
  },
  {
   "cell_type": "code",
   "execution_count": 10,
   "metadata": {},
   "outputs": [
    {
     "data": {
      "text/plain": [
       "'william'"
      ]
     },
     "execution_count": 10,
     "metadata": {},
     "output_type": "execute_result"
    }
   ],
   "source": [
    "# Second NamedTuple\n",
    "import typing \n",
    "# Person = typing.NamedTuple('Person', [('first', str), ('middle', str), ('last', str)])\n",
    "Person = typing.NamedTuple('Person', first=str, middle=str, last=str)\n",
    "william = Person('william', 'nehal', 'khan')\n",
    "william.first"
   ]
  },
  {
   "cell_type": "code",
   "execution_count": 11,
   "metadata": {},
   "outputs": [
    {
     "name": "stdout",
     "output_type": "stream",
     "text": [
      "Full Name: willie nehal khan\n"
     ]
    }
   ],
   "source": [
    "# NamedTuple class syntax\n",
    "\n",
    "class Person(typing.NamedTuple):\n",
    "    first: str\n",
    "    middle: str\n",
    "    last: str\n",
    "\n",
    "    def __str__(self):\n",
    "        return f'Full Name: {self.first} {self.middle} {self.last}'\n",
    "\n",
    "william = Person(first='willie',middle='nehal',last='khan')\n",
    "print(william)"
   ]
  },
  {
   "cell_type": "code",
   "execution_count": 12,
   "metadata": {},
   "outputs": [
    {
     "name": "stdout",
     "output_type": "stream",
     "text": [
      "Full Name: amanda jane smith\n"
     ]
    }
   ],
   "source": [
    "# Third Data Class\n",
    "from dataclasses import dataclass\n",
    "\n",
    "@dataclass(frozen=True)\n",
    "class Person:\n",
    "    first: str\n",
    "    middle: str\n",
    "    last: str\n",
    "\n",
    "    def __str__(self):\n",
    "        return f'Full Name: {self.first} {self.middle} {self.last}'\n",
    "\n",
    "amanda = Person('amanda', 'jane', 'smith')        \n",
    "print(amanda)"
   ]
  },
  {
   "cell_type": "code",
   "execution_count": 13,
   "metadata": {},
   "outputs": [
    {
     "name": "stdout",
     "output_type": "stream",
     "text": [
      "It's frozen\n",
      "cannot assign to field 'first'\n"
     ]
    }
   ],
   "source": [
    "try:\n",
    "    amanda.first = 'amanda'\n",
    "except Exception as e:\n",
    "    print('It\\'s frozen')\n",
    "    print(e)"
   ]
  }
 ],
 "metadata": {
  "kernelspec": {
   "display_name": "venv",
   "language": "python",
   "name": "python3"
  },
  "language_info": {
   "codemirror_mode": {
    "name": "ipython",
    "version": 3
   },
   "file_extension": ".py",
   "mimetype": "text/x-python",
   "name": "python",
   "nbconvert_exporter": "python",
   "pygments_lexer": "ipython3",
   "version": "3.12.8"
  }
 },
 "nbformat": 4,
 "nbformat_minor": 2
}
